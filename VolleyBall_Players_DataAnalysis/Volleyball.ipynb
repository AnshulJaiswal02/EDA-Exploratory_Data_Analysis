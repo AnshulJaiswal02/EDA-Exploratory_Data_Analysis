{
 "cells": [
  {
   "cell_type": "code",
   "execution_count": 3,
   "id": "bbcbc8cd-b98e-4ed7-81b8-ba0390215975",
   "metadata": {},
   "outputs": [],
   "source": [
    "import numpy as np \n",
    "import pandas as pd\n",
    "import matplotlib.pyplot as plt\n",
    "import seaborn as sns "
   ]
  },
  {
   "cell_type": "code",
   "execution_count": 4,
   "id": "9264516f-2f75-470c-98eb-09a0b3af9eaa",
   "metadata": {},
   "outputs": [],
   "source": [
    "df=pd.read_csv(\"VNL2023.csv\")"
   ]
  },
  {
   "cell_type": "code",
   "execution_count": 5,
   "id": "c1a499db-01b6-468e-abfe-910d077a54d2",
   "metadata": {},
   "outputs": [
    {
     "data": {
      "text/html": [
       "<div>\n",
       "<style scoped>\n",
       "    .dataframe tbody tr th:only-of-type {\n",
       "        vertical-align: middle;\n",
       "    }\n",
       "\n",
       "    .dataframe tbody tr th {\n",
       "        vertical-align: top;\n",
       "    }\n",
       "\n",
       "    .dataframe thead th {\n",
       "        text-align: right;\n",
       "    }\n",
       "</style>\n",
       "<table border=\"1\" class=\"dataframe\">\n",
       "  <thead>\n",
       "    <tr style=\"text-align: right;\">\n",
       "      <th></th>\n",
       "      <th>Player</th>\n",
       "      <th>Country</th>\n",
       "      <th>Age</th>\n",
       "      <th>Attack</th>\n",
       "      <th>Block</th>\n",
       "      <th>Serve</th>\n",
       "      <th>Set</th>\n",
       "      <th>Dig</th>\n",
       "      <th>Receive</th>\n",
       "      <th>Position</th>\n",
       "    </tr>\n",
       "  </thead>\n",
       "  <tbody>\n",
       "    <tr>\n",
       "      <th>0</th>\n",
       "      <td>Ichikawa Yuki</td>\n",
       "      <td>Japan</td>\n",
       "      <td>28</td>\n",
       "      <td>15.80</td>\n",
       "      <td>1.13</td>\n",
       "      <td>1.40</td>\n",
       "      <td>0.07</td>\n",
       "      <td>4.80</td>\n",
       "      <td>5.60</td>\n",
       "      <td>OH</td>\n",
       "    </tr>\n",
       "    <tr>\n",
       "      <th>1</th>\n",
       "      <td>Romano Yuri</td>\n",
       "      <td>Italy</td>\n",
       "      <td>26</td>\n",
       "      <td>12.33</td>\n",
       "      <td>1.07</td>\n",
       "      <td>1.47</td>\n",
       "      <td>0.00</td>\n",
       "      <td>3.87</td>\n",
       "      <td>0.00</td>\n",
       "      <td>OP</td>\n",
       "    </tr>\n",
       "    <tr>\n",
       "      <th>2</th>\n",
       "      <td>Abdel-Aziz Nimir</td>\n",
       "      <td>Nederland</td>\n",
       "      <td>31</td>\n",
       "      <td>15.33</td>\n",
       "      <td>0.67</td>\n",
       "      <td>2.08</td>\n",
       "      <td>0.00</td>\n",
       "      <td>3.17</td>\n",
       "      <td>0.25</td>\n",
       "      <td>OP</td>\n",
       "    </tr>\n",
       "    <tr>\n",
       "      <th>3</th>\n",
       "      <td>Herrera Jaime Jesus</td>\n",
       "      <td>Cuba</td>\n",
       "      <td>28</td>\n",
       "      <td>15.00</td>\n",
       "      <td>0.92</td>\n",
       "      <td>1.75</td>\n",
       "      <td>0.00</td>\n",
       "      <td>3.33</td>\n",
       "      <td>0.17</td>\n",
       "      <td>OP</td>\n",
       "    </tr>\n",
       "    <tr>\n",
       "      <th>4</th>\n",
       "      <td>Takahashi Ran</td>\n",
       "      <td>Japan</td>\n",
       "      <td>22</td>\n",
       "      <td>11.53</td>\n",
       "      <td>0.67</td>\n",
       "      <td>1.00</td>\n",
       "      <td>0.07</td>\n",
       "      <td>6.40</td>\n",
       "      <td>5.07</td>\n",
       "      <td>OH</td>\n",
       "    </tr>\n",
       "    <tr>\n",
       "      <th>...</th>\n",
       "      <td>...</td>\n",
       "      <td>...</td>\n",
       "      <td>...</td>\n",
       "      <td>...</td>\n",
       "      <td>...</td>\n",
       "      <td>...</td>\n",
       "      <td>...</td>\n",
       "      <td>...</td>\n",
       "      <td>...</td>\n",
       "      <td>...</td>\n",
       "    </tr>\n",
       "    <tr>\n",
       "      <th>126</th>\n",
       "      <td>Graven Leonard</td>\n",
       "      <td>Germany</td>\n",
       "      <td>19</td>\n",
       "      <td>0.00</td>\n",
       "      <td>0.00</td>\n",
       "      <td>0.00</td>\n",
       "      <td>0.00</td>\n",
       "      <td>5.92</td>\n",
       "      <td>1.92</td>\n",
       "      <td>L</td>\n",
       "    </tr>\n",
       "    <tr>\n",
       "      <th>127</th>\n",
       "      <td>Balaso Fabio</td>\n",
       "      <td>Italy</td>\n",
       "      <td>28</td>\n",
       "      <td>0.00</td>\n",
       "      <td>0.00</td>\n",
       "      <td>0.00</td>\n",
       "      <td>0.00</td>\n",
       "      <td>10.00</td>\n",
       "      <td>5.00</td>\n",
       "      <td>L</td>\n",
       "    </tr>\n",
       "    <tr>\n",
       "      <th>128</th>\n",
       "      <td>Nacsimento Maique Reis</td>\n",
       "      <td>Brazil</td>\n",
       "      <td>26</td>\n",
       "      <td>0.00</td>\n",
       "      <td>0.00</td>\n",
       "      <td>0.00</td>\n",
       "      <td>0.00</td>\n",
       "      <td>5.08</td>\n",
       "      <td>2.46</td>\n",
       "      <td>L</td>\n",
       "    </tr>\n",
       "    <tr>\n",
       "      <th>129</th>\n",
       "      <td>Garcia Alvarez Yonder Roman</td>\n",
       "      <td>Cuba</td>\n",
       "      <td>30</td>\n",
       "      <td>0.00</td>\n",
       "      <td>0.00</td>\n",
       "      <td>0.00</td>\n",
       "      <td>0.00</td>\n",
       "      <td>4.25</td>\n",
       "      <td>3.25</td>\n",
       "      <td>L</td>\n",
       "    </tr>\n",
       "    <tr>\n",
       "      <th>130</th>\n",
       "      <td>Salparov Teodor</td>\n",
       "      <td>Bulgaria</td>\n",
       "      <td>41</td>\n",
       "      <td>0.00</td>\n",
       "      <td>0.00</td>\n",
       "      <td>0.00</td>\n",
       "      <td>0.00</td>\n",
       "      <td>5.00</td>\n",
       "      <td>3.75</td>\n",
       "      <td>L</td>\n",
       "    </tr>\n",
       "  </tbody>\n",
       "</table>\n",
       "<p>131 rows × 10 columns</p>\n",
       "</div>"
      ],
      "text/plain": [
       "                          Player    Country  Age  Attack  Block  Serve   Set  \\\n",
       "0                  Ichikawa Yuki      Japan   28   15.80   1.13   1.40  0.07   \n",
       "1                    Romano Yuri      Italy   26   12.33   1.07   1.47  0.00   \n",
       "2               Abdel-Aziz Nimir  Nederland   31   15.33   0.67   2.08  0.00   \n",
       "3            Herrera Jaime Jesus       Cuba   28   15.00   0.92   1.75  0.00   \n",
       "4                  Takahashi Ran      Japan   22   11.53   0.67   1.00  0.07   \n",
       "..                           ...        ...  ...     ...    ...    ...   ...   \n",
       "126               Graven Leonard    Germany   19    0.00   0.00   0.00  0.00   \n",
       "127                 Balaso Fabio      Italy   28    0.00   0.00   0.00  0.00   \n",
       "128      Nacsimento Maique Reis      Brazil   26    0.00   0.00   0.00  0.00   \n",
       "129  Garcia Alvarez Yonder Roman       Cuba   30    0.00   0.00   0.00  0.00   \n",
       "130              Salparov Teodor   Bulgaria   41    0.00   0.00   0.00  0.00   \n",
       "\n",
       "       Dig  Receive Position  \n",
       "0     4.80     5.60       OH  \n",
       "1     3.87     0.00       OP  \n",
       "2     3.17     0.25       OP  \n",
       "3     3.33     0.17       OP  \n",
       "4     6.40     5.07       OH  \n",
       "..     ...      ...      ...  \n",
       "126   5.92     1.92        L  \n",
       "127  10.00     5.00        L  \n",
       "128   5.08     2.46        L  \n",
       "129   4.25     3.25        L  \n",
       "130   5.00     3.75        L  \n",
       "\n",
       "[131 rows x 10 columns]"
      ]
     },
     "execution_count": 5,
     "metadata": {},
     "output_type": "execute_result"
    }
   ],
   "source": [
    "df"
   ]
  },
  {
   "cell_type": "code",
   "execution_count": 6,
   "id": "f82e1f9d-6af9-4262-bbf6-5053799339ff",
   "metadata": {},
   "outputs": [
    {
     "data": {
      "text/html": [
       "<div>\n",
       "<style scoped>\n",
       "    .dataframe tbody tr th:only-of-type {\n",
       "        vertical-align: middle;\n",
       "    }\n",
       "\n",
       "    .dataframe tbody tr th {\n",
       "        vertical-align: top;\n",
       "    }\n",
       "\n",
       "    .dataframe thead th {\n",
       "        text-align: right;\n",
       "    }\n",
       "</style>\n",
       "<table border=\"1\" class=\"dataframe\">\n",
       "  <thead>\n",
       "    <tr style=\"text-align: right;\">\n",
       "      <th></th>\n",
       "      <th>Player</th>\n",
       "      <th>Country</th>\n",
       "      <th>Age</th>\n",
       "      <th>Attack</th>\n",
       "      <th>Block</th>\n",
       "      <th>Serve</th>\n",
       "      <th>Set</th>\n",
       "      <th>Dig</th>\n",
       "      <th>Receive</th>\n",
       "      <th>Position</th>\n",
       "    </tr>\n",
       "  </thead>\n",
       "  <tbody>\n",
       "    <tr>\n",
       "      <th>126</th>\n",
       "      <td>Graven Leonard</td>\n",
       "      <td>Germany</td>\n",
       "      <td>19</td>\n",
       "      <td>0.0</td>\n",
       "      <td>0.0</td>\n",
       "      <td>0.0</td>\n",
       "      <td>0.0</td>\n",
       "      <td>5.92</td>\n",
       "      <td>1.92</td>\n",
       "      <td>L</td>\n",
       "    </tr>\n",
       "    <tr>\n",
       "      <th>127</th>\n",
       "      <td>Balaso Fabio</td>\n",
       "      <td>Italy</td>\n",
       "      <td>28</td>\n",
       "      <td>0.0</td>\n",
       "      <td>0.0</td>\n",
       "      <td>0.0</td>\n",
       "      <td>0.0</td>\n",
       "      <td>10.00</td>\n",
       "      <td>5.00</td>\n",
       "      <td>L</td>\n",
       "    </tr>\n",
       "    <tr>\n",
       "      <th>128</th>\n",
       "      <td>Nacsimento Maique Reis</td>\n",
       "      <td>Brazil</td>\n",
       "      <td>26</td>\n",
       "      <td>0.0</td>\n",
       "      <td>0.0</td>\n",
       "      <td>0.0</td>\n",
       "      <td>0.0</td>\n",
       "      <td>5.08</td>\n",
       "      <td>2.46</td>\n",
       "      <td>L</td>\n",
       "    </tr>\n",
       "    <tr>\n",
       "      <th>129</th>\n",
       "      <td>Garcia Alvarez Yonder Roman</td>\n",
       "      <td>Cuba</td>\n",
       "      <td>30</td>\n",
       "      <td>0.0</td>\n",
       "      <td>0.0</td>\n",
       "      <td>0.0</td>\n",
       "      <td>0.0</td>\n",
       "      <td>4.25</td>\n",
       "      <td>3.25</td>\n",
       "      <td>L</td>\n",
       "    </tr>\n",
       "    <tr>\n",
       "      <th>130</th>\n",
       "      <td>Salparov Teodor</td>\n",
       "      <td>Bulgaria</td>\n",
       "      <td>41</td>\n",
       "      <td>0.0</td>\n",
       "      <td>0.0</td>\n",
       "      <td>0.0</td>\n",
       "      <td>0.0</td>\n",
       "      <td>5.00</td>\n",
       "      <td>3.75</td>\n",
       "      <td>L</td>\n",
       "    </tr>\n",
       "  </tbody>\n",
       "</table>\n",
       "</div>"
      ],
      "text/plain": [
       "                          Player   Country  Age  Attack  Block  Serve  Set  \\\n",
       "126               Graven Leonard   Germany   19     0.0    0.0    0.0  0.0   \n",
       "127                 Balaso Fabio     Italy   28     0.0    0.0    0.0  0.0   \n",
       "128      Nacsimento Maique Reis     Brazil   26     0.0    0.0    0.0  0.0   \n",
       "129  Garcia Alvarez Yonder Roman      Cuba   30     0.0    0.0    0.0  0.0   \n",
       "130              Salparov Teodor  Bulgaria   41     0.0    0.0    0.0  0.0   \n",
       "\n",
       "       Dig  Receive Position  \n",
       "126   5.92     1.92        L  \n",
       "127  10.00     5.00        L  \n",
       "128   5.08     2.46        L  \n",
       "129   4.25     3.25        L  \n",
       "130   5.00     3.75        L  "
      ]
     },
     "execution_count": 6,
     "metadata": {},
     "output_type": "execute_result"
    }
   ],
   "source": [
    "df.tail()"
   ]
  },
  {
   "cell_type": "code",
   "execution_count": 7,
   "id": "ceda454f-6806-4554-8951-bf486578c450",
   "metadata": {},
   "outputs": [
    {
     "data": {
      "text/html": [
       "<div>\n",
       "<style scoped>\n",
       "    .dataframe tbody tr th:only-of-type {\n",
       "        vertical-align: middle;\n",
       "    }\n",
       "\n",
       "    .dataframe tbody tr th {\n",
       "        vertical-align: top;\n",
       "    }\n",
       "\n",
       "    .dataframe thead th {\n",
       "        text-align: right;\n",
       "    }\n",
       "</style>\n",
       "<table border=\"1\" class=\"dataframe\">\n",
       "  <thead>\n",
       "    <tr style=\"text-align: right;\">\n",
       "      <th></th>\n",
       "      <th>Player</th>\n",
       "      <th>Country</th>\n",
       "      <th>Age</th>\n",
       "      <th>Attack</th>\n",
       "      <th>Block</th>\n",
       "      <th>Serve</th>\n",
       "      <th>Set</th>\n",
       "      <th>Dig</th>\n",
       "      <th>Receive</th>\n",
       "      <th>Position</th>\n",
       "    </tr>\n",
       "  </thead>\n",
       "  <tbody>\n",
       "    <tr>\n",
       "      <th>0</th>\n",
       "      <td>Ichikawa Yuki</td>\n",
       "      <td>Japan</td>\n",
       "      <td>28</td>\n",
       "      <td>15.80</td>\n",
       "      <td>1.13</td>\n",
       "      <td>1.40</td>\n",
       "      <td>0.07</td>\n",
       "      <td>4.80</td>\n",
       "      <td>5.60</td>\n",
       "      <td>OH</td>\n",
       "    </tr>\n",
       "    <tr>\n",
       "      <th>1</th>\n",
       "      <td>Romano Yuri</td>\n",
       "      <td>Italy</td>\n",
       "      <td>26</td>\n",
       "      <td>12.33</td>\n",
       "      <td>1.07</td>\n",
       "      <td>1.47</td>\n",
       "      <td>0.00</td>\n",
       "      <td>3.87</td>\n",
       "      <td>0.00</td>\n",
       "      <td>OP</td>\n",
       "    </tr>\n",
       "    <tr>\n",
       "      <th>2</th>\n",
       "      <td>Abdel-Aziz Nimir</td>\n",
       "      <td>Nederland</td>\n",
       "      <td>31</td>\n",
       "      <td>15.33</td>\n",
       "      <td>0.67</td>\n",
       "      <td>2.08</td>\n",
       "      <td>0.00</td>\n",
       "      <td>3.17</td>\n",
       "      <td>0.25</td>\n",
       "      <td>OP</td>\n",
       "    </tr>\n",
       "    <tr>\n",
       "      <th>3</th>\n",
       "      <td>Herrera Jaime Jesus</td>\n",
       "      <td>Cuba</td>\n",
       "      <td>28</td>\n",
       "      <td>15.00</td>\n",
       "      <td>0.92</td>\n",
       "      <td>1.75</td>\n",
       "      <td>0.00</td>\n",
       "      <td>3.33</td>\n",
       "      <td>0.17</td>\n",
       "      <td>OP</td>\n",
       "    </tr>\n",
       "    <tr>\n",
       "      <th>4</th>\n",
       "      <td>Takahashi Ran</td>\n",
       "      <td>Japan</td>\n",
       "      <td>22</td>\n",
       "      <td>11.53</td>\n",
       "      <td>0.67</td>\n",
       "      <td>1.00</td>\n",
       "      <td>0.07</td>\n",
       "      <td>6.40</td>\n",
       "      <td>5.07</td>\n",
       "      <td>OH</td>\n",
       "    </tr>\n",
       "  </tbody>\n",
       "</table>\n",
       "</div>"
      ],
      "text/plain": [
       "                Player    Country  Age  Attack  Block  Serve   Set   Dig  \\\n",
       "0        Ichikawa Yuki      Japan   28   15.80   1.13   1.40  0.07  4.80   \n",
       "1          Romano Yuri      Italy   26   12.33   1.07   1.47  0.00  3.87   \n",
       "2     Abdel-Aziz Nimir  Nederland   31   15.33   0.67   2.08  0.00  3.17   \n",
       "3  Herrera Jaime Jesus       Cuba   28   15.00   0.92   1.75  0.00  3.33   \n",
       "4        Takahashi Ran      Japan   22   11.53   0.67   1.00  0.07  6.40   \n",
       "\n",
       "   Receive Position  \n",
       "0     5.60       OH  \n",
       "1     0.00       OP  \n",
       "2     0.25       OP  \n",
       "3     0.17       OP  \n",
       "4     5.07       OH  "
      ]
     },
     "execution_count": 7,
     "metadata": {},
     "output_type": "execute_result"
    }
   ],
   "source": [
    "df.head()"
   ]
  },
  {
   "cell_type": "code",
   "execution_count": 8,
   "id": "114e915b-5793-40ce-bbc2-ce8c00956326",
   "metadata": {},
   "outputs": [
    {
     "data": {
      "text/html": [
       "<div>\n",
       "<style scoped>\n",
       "    .dataframe tbody tr th:only-of-type {\n",
       "        vertical-align: middle;\n",
       "    }\n",
       "\n",
       "    .dataframe tbody tr th {\n",
       "        vertical-align: top;\n",
       "    }\n",
       "\n",
       "    .dataframe thead th {\n",
       "        text-align: right;\n",
       "    }\n",
       "</style>\n",
       "<table border=\"1\" class=\"dataframe\">\n",
       "  <thead>\n",
       "    <tr style=\"text-align: right;\">\n",
       "      <th></th>\n",
       "      <th>Age</th>\n",
       "      <th>Attack</th>\n",
       "      <th>Block</th>\n",
       "      <th>Serve</th>\n",
       "      <th>Set</th>\n",
       "      <th>Dig</th>\n",
       "      <th>Receive</th>\n",
       "    </tr>\n",
       "  </thead>\n",
       "  <tbody>\n",
       "    <tr>\n",
       "      <th>count</th>\n",
       "      <td>131.000000</td>\n",
       "      <td>131.000000</td>\n",
       "      <td>131.000000</td>\n",
       "      <td>131.000000</td>\n",
       "      <td>131.000000</td>\n",
       "      <td>131.000000</td>\n",
       "      <td>131.000000</td>\n",
       "    </tr>\n",
       "    <tr>\n",
       "      <th>mean</th>\n",
       "      <td>27.809160</td>\n",
       "      <td>5.642672</td>\n",
       "      <td>0.845573</td>\n",
       "      <td>0.535802</td>\n",
       "      <td>2.192595</td>\n",
       "      <td>3.428397</td>\n",
       "      <td>1.684198</td>\n",
       "    </tr>\n",
       "    <tr>\n",
       "      <th>std</th>\n",
       "      <td>4.186268</td>\n",
       "      <td>4.256229</td>\n",
       "      <td>0.700896</td>\n",
       "      <td>0.454346</td>\n",
       "      <td>6.031587</td>\n",
       "      <td>2.077823</td>\n",
       "      <td>1.989939</td>\n",
       "    </tr>\n",
       "    <tr>\n",
       "      <th>min</th>\n",
       "      <td>19.000000</td>\n",
       "      <td>0.000000</td>\n",
       "      <td>0.000000</td>\n",
       "      <td>0.000000</td>\n",
       "      <td>0.000000</td>\n",
       "      <td>0.530000</td>\n",
       "      <td>0.000000</td>\n",
       "    </tr>\n",
       "    <tr>\n",
       "      <th>25%</th>\n",
       "      <td>25.000000</td>\n",
       "      <td>2.800000</td>\n",
       "      <td>0.370000</td>\n",
       "      <td>0.240000</td>\n",
       "      <td>0.000000</td>\n",
       "      <td>1.920000</td>\n",
       "      <td>0.000000</td>\n",
       "    </tr>\n",
       "    <tr>\n",
       "      <th>50%</th>\n",
       "      <td>27.000000</td>\n",
       "      <td>5.170000</td>\n",
       "      <td>0.690000</td>\n",
       "      <td>0.420000</td>\n",
       "      <td>0.000000</td>\n",
       "      <td>3.000000</td>\n",
       "      <td>0.330000</td>\n",
       "    </tr>\n",
       "    <tr>\n",
       "      <th>75%</th>\n",
       "      <td>30.000000</td>\n",
       "      <td>8.600000</td>\n",
       "      <td>1.140000</td>\n",
       "      <td>0.760000</td>\n",
       "      <td>0.000000</td>\n",
       "      <td>4.510000</td>\n",
       "      <td>3.385000</td>\n",
       "    </tr>\n",
       "    <tr>\n",
       "      <th>max</th>\n",
       "      <td>41.000000</td>\n",
       "      <td>15.800000</td>\n",
       "      <td>4.080000</td>\n",
       "      <td>2.080000</td>\n",
       "      <td>26.890000</td>\n",
       "      <td>11.440000</td>\n",
       "      <td>6.690000</td>\n",
       "    </tr>\n",
       "  </tbody>\n",
       "</table>\n",
       "</div>"
      ],
      "text/plain": [
       "              Age      Attack       Block       Serve         Set         Dig  \\\n",
       "count  131.000000  131.000000  131.000000  131.000000  131.000000  131.000000   \n",
       "mean    27.809160    5.642672    0.845573    0.535802    2.192595    3.428397   \n",
       "std      4.186268    4.256229    0.700896    0.454346    6.031587    2.077823   \n",
       "min     19.000000    0.000000    0.000000    0.000000    0.000000    0.530000   \n",
       "25%     25.000000    2.800000    0.370000    0.240000    0.000000    1.920000   \n",
       "50%     27.000000    5.170000    0.690000    0.420000    0.000000    3.000000   \n",
       "75%     30.000000    8.600000    1.140000    0.760000    0.000000    4.510000   \n",
       "max     41.000000   15.800000    4.080000    2.080000   26.890000   11.440000   \n",
       "\n",
       "          Receive  \n",
       "count  131.000000  \n",
       "mean     1.684198  \n",
       "std      1.989939  \n",
       "min      0.000000  \n",
       "25%      0.000000  \n",
       "50%      0.330000  \n",
       "75%      3.385000  \n",
       "max      6.690000  "
      ]
     },
     "execution_count": 8,
     "metadata": {},
     "output_type": "execute_result"
    }
   ],
   "source": [
    "df.describe()"
   ]
  },
  {
   "cell_type": "code",
   "execution_count": 9,
   "id": "fc412164-bd54-462d-8a4d-125d1f949faa",
   "metadata": {},
   "outputs": [
    {
     "data": {
      "text/plain": [
       "(131, 10)"
      ]
     },
     "execution_count": 9,
     "metadata": {},
     "output_type": "execute_result"
    }
   ],
   "source": [
    "df.shape"
   ]
  },
  {
   "cell_type": "code",
   "execution_count": 10,
   "id": "7aa3848a-2de4-47b9-b4bc-f937419b4100",
   "metadata": {},
   "outputs": [
    {
     "data": {
      "text/plain": [
       "['Player',\n",
       " 'Country',\n",
       " 'Age',\n",
       " 'Attack',\n",
       " 'Block',\n",
       " 'Serve',\n",
       " 'Set',\n",
       " 'Dig',\n",
       " 'Receive',\n",
       " 'Position']"
      ]
     },
     "execution_count": 10,
     "metadata": {},
     "output_type": "execute_result"
    }
   ],
   "source": [
    "list(df.columns)"
   ]
  },
  {
   "cell_type": "code",
   "execution_count": 19,
   "id": "1ef8846e-276e-442b-9326-2998873e388b",
   "metadata": {},
   "outputs": [
    {
     "data": {
      "text/plain": [
       "Player      131\n",
       "Country      16\n",
       "Age          21\n",
       "Attack      101\n",
       "Block        65\n",
       "Serve        55\n",
       "Set          23\n",
       "Dig          99\n",
       "Receive      64\n",
       "Position      5\n",
       "dtype: int64"
      ]
     },
     "execution_count": 19,
     "metadata": {},
     "output_type": "execute_result"
    }
   ],
   "source": [
    "df.nunique()"
   ]
  },
  {
   "cell_type": "code",
   "execution_count": 20,
   "id": "a5444830-f59e-4efe-9935-2b673085cefa",
   "metadata": {},
   "outputs": [
    {
     "data": {
      "text/plain": [
       "Player      0\n",
       "Country     0\n",
       "Age         0\n",
       "Attack      0\n",
       "Block       0\n",
       "Serve       0\n",
       "Set         0\n",
       "Dig         0\n",
       "Receive     0\n",
       "Position    0\n",
       "dtype: int64"
      ]
     },
     "execution_count": 20,
     "metadata": {},
     "output_type": "execute_result"
    }
   ],
   "source": [
    "df.isna().sum()"
   ]
  },
  {
   "cell_type": "code",
   "execution_count": 23,
   "id": "403826b4-e170-4ea1-bd98-b014989002e9",
   "metadata": {
    "scrolled": true
   },
   "outputs": [
    {
     "data": {
      "text/plain": [
       "Player      0\n",
       "Country     0\n",
       "Age         0\n",
       "Attack      0\n",
       "Block       0\n",
       "Serve       0\n",
       "Set         0\n",
       "Dig         0\n",
       "Receive     0\n",
       "Position    0\n",
       "dtype: int64"
      ]
     },
     "execution_count": 23,
     "metadata": {},
     "output_type": "execute_result"
    }
   ],
   "source": [
    "df.isnull().sum()"
   ]
  },
  {
   "cell_type": "code",
   "execution_count": 25,
   "id": "a57ca08c-fc98-41bd-9ae4-7d3e5cf63d77",
   "metadata": {},
   "outputs": [
    {
     "data": {
      "text/plain": [
       "0"
      ]
     },
     "execution_count": 25,
     "metadata": {},
     "output_type": "execute_result"
    }
   ],
   "source": [
    "df.duplicated().sum()"
   ]
  },
  {
   "cell_type": "code",
   "execution_count": 27,
   "id": "00f0259c-bdda-4dd4-b29a-d282c03d5d5b",
   "metadata": {},
   "outputs": [],
   "source": [
    " numeric_cols=df.select_dtypes(include=[\"int\",\"float\"]).columns"
   ]
  },
  {
   "cell_type": "code",
   "execution_count": 29,
   "id": "69cfe4ce-1e34-4750-b3e0-dad711150e8c",
   "metadata": {},
   "outputs": [
    {
     "data": {
      "text/plain": [
       "Index(['Age', 'Attack', 'Block', 'Serve', 'Set', 'Dig', 'Receive'], dtype='object')"
      ]
     },
     "execution_count": 29,
     "metadata": {},
     "output_type": "execute_result"
    }
   ],
   "source": [
    "numeric_cols"
   ]
  },
  {
   "cell_type": "code",
   "execution_count": 31,
   "id": "8e3cad44-2720-4eb3-bbff-e251be77d955",
   "metadata": {},
   "outputs": [
    {
     "data": {
      "text/html": [
       "<div>\n",
       "<style scoped>\n",
       "    .dataframe tbody tr th:only-of-type {\n",
       "        vertical-align: middle;\n",
       "    }\n",
       "\n",
       "    .dataframe tbody tr th {\n",
       "        vertical-align: top;\n",
       "    }\n",
       "\n",
       "    .dataframe thead th {\n",
       "        text-align: right;\n",
       "    }\n",
       "</style>\n",
       "<table border=\"1\" class=\"dataframe\">\n",
       "  <thead>\n",
       "    <tr style=\"text-align: right;\">\n",
       "      <th></th>\n",
       "      <th>Age</th>\n",
       "      <th>Attack</th>\n",
       "      <th>Block</th>\n",
       "      <th>Serve</th>\n",
       "      <th>Set</th>\n",
       "      <th>Dig</th>\n",
       "      <th>Receive</th>\n",
       "    </tr>\n",
       "  </thead>\n",
       "  <tbody>\n",
       "    <tr>\n",
       "      <th>Age</th>\n",
       "      <td>1.000000</td>\n",
       "      <td>-0.177849</td>\n",
       "      <td>-0.101040</td>\n",
       "      <td>-0.108367</td>\n",
       "      <td>0.177757</td>\n",
       "      <td>0.167141</td>\n",
       "      <td>-0.011067</td>\n",
       "    </tr>\n",
       "    <tr>\n",
       "      <th>Attack</th>\n",
       "      <td>-0.177849</td>\n",
       "      <td>1.000000</td>\n",
       "      <td>0.338412</td>\n",
       "      <td>0.768859</td>\n",
       "      <td>-0.430805</td>\n",
       "      <td>-0.098999</td>\n",
       "      <td>0.169892</td>\n",
       "    </tr>\n",
       "    <tr>\n",
       "      <th>Block</th>\n",
       "      <td>-0.101040</td>\n",
       "      <td>0.338412</td>\n",
       "      <td>1.000000</td>\n",
       "      <td>0.335954</td>\n",
       "      <td>-0.132019</td>\n",
       "      <td>-0.348347</td>\n",
       "      <td>-0.265206</td>\n",
       "    </tr>\n",
       "    <tr>\n",
       "      <th>Serve</th>\n",
       "      <td>-0.108367</td>\n",
       "      <td>0.768859</td>\n",
       "      <td>0.335954</td>\n",
       "      <td>1.000000</td>\n",
       "      <td>-0.154815</td>\n",
       "      <td>-0.052501</td>\n",
       "      <td>0.039642</td>\n",
       "    </tr>\n",
       "    <tr>\n",
       "      <th>Set</th>\n",
       "      <td>0.177757</td>\n",
       "      <td>-0.430805</td>\n",
       "      <td>-0.132019</td>\n",
       "      <td>-0.154815</td>\n",
       "      <td>1.000000</td>\n",
       "      <td>0.131659</td>\n",
       "      <td>-0.305869</td>\n",
       "    </tr>\n",
       "    <tr>\n",
       "      <th>Dig</th>\n",
       "      <td>0.167141</td>\n",
       "      <td>-0.098999</td>\n",
       "      <td>-0.348347</td>\n",
       "      <td>-0.052501</td>\n",
       "      <td>0.131659</td>\n",
       "      <td>1.000000</td>\n",
       "      <td>0.624733</td>\n",
       "    </tr>\n",
       "    <tr>\n",
       "      <th>Receive</th>\n",
       "      <td>-0.011067</td>\n",
       "      <td>0.169892</td>\n",
       "      <td>-0.265206</td>\n",
       "      <td>0.039642</td>\n",
       "      <td>-0.305869</td>\n",
       "      <td>0.624733</td>\n",
       "      <td>1.000000</td>\n",
       "    </tr>\n",
       "  </tbody>\n",
       "</table>\n",
       "</div>"
      ],
      "text/plain": [
       "              Age    Attack     Block     Serve       Set       Dig   Receive\n",
       "Age      1.000000 -0.177849 -0.101040 -0.108367  0.177757  0.167141 -0.011067\n",
       "Attack  -0.177849  1.000000  0.338412  0.768859 -0.430805 -0.098999  0.169892\n",
       "Block   -0.101040  0.338412  1.000000  0.335954 -0.132019 -0.348347 -0.265206\n",
       "Serve   -0.108367  0.768859  0.335954  1.000000 -0.154815 -0.052501  0.039642\n",
       "Set      0.177757 -0.430805 -0.132019 -0.154815  1.000000  0.131659 -0.305869\n",
       "Dig      0.167141 -0.098999 -0.348347 -0.052501  0.131659  1.000000  0.624733\n",
       "Receive -0.011067  0.169892 -0.265206  0.039642 -0.305869  0.624733  1.000000"
      ]
     },
     "execution_count": 31,
     "metadata": {},
     "output_type": "execute_result"
    }
   ],
   "source": [
    "corr_matrix=df[numeric_cols].corr()\n",
    "corr_matrix"
   ]
  },
  {
   "cell_type": "code",
   "execution_count": 33,
   "id": "6ef6ddd9-1666-4cb6-8100-d31bd402f03b",
   "metadata": {},
   "outputs": [
    {
     "data": {
      "image/png": "[encoded data removed]",
      "text/plain": [
       "<Figure size 1000x1000 with 2 Axes>"
      ]
     },
     "metadata": {},
     "output_type": "display_data"
    }
   ],
   "source": [
    "plt.figure(figsize=(10,10))\n",
    "sns.heatmap(corr_matrix, annot=True, cmap=\"Greens\", linewidths=5)\n",
    "plt.title(\"Correlation Matrix Heatmap\")\n",
    "plt.show()"
   ]
  },
  {
   "cell_type": "code",
   "execution_count": 34,
   "id": "e373cd69-6efc-45fc-bec1-d9c287adb10f",
   "metadata": {},
   "outputs": [],
   "source": [
    "position_counts=df[\"Position\"].value_counts()"
   ]
  },
  {
   "cell_type": "code",
   "execution_count": 35,
   "id": "a68bf82b-4e0a-48c0-8d8a-366484ad20ca",
   "metadata": {},
   "outputs": [
    {
     "data": {
      "text/plain": [
       "Position\n",
       "OH    42\n",
       "MB    32\n",
       "OP    25\n",
       "S     16\n",
       "L     16\n",
       "Name: count, dtype: int64"
      ]
     },
     "execution_count": 35,
     "metadata": {},
     "output_type": "execute_result"
    }
   ],
   "source": [
    "position_counts"
   ]
  },
  {
   "cell_type": "code",
   "execution_count": 36,
   "id": "51436f9b-53b4-4463-97d4-af8604810a13",
   "metadata": {},
   "outputs": [
    {
     "data": {
      "text/plain": [
       "<Axes: title={'center': 'Position Counts'}>"
      ]
     },
     "execution_count": 36,
     "metadata": {},
     "output_type": "execute_result"
    },
    {
     "data": {
      "image/png": "[encoded data removed]",
      "text/plain": [
       "<Figure size 640x480 with 1 Axes>"
      ]
     },
     "metadata": {},
     "output_type": "display_data"
    }
   ],
   "source": [
    "green_shades = [\"#A8E6CF\", \"#98FB98\", \"#32CD32\", \"#228B22\", \"#556B2F\"]\n",
    "position_counts.plot(\n",
    "    kind=\"pie\",\n",
    "    ylabel=\"\",\n",
    "    title=\"Position Counts\",\n",
    "    autopct=\"%1.1f%%\",\n",
    "    colors=green_shades[:len(position_counts)],  # auto-trim to match count\n",
    "    startangle=90\n",
    ")\n"
   ]
  },
  {
   "cell_type": "code",
   "execution_count": 38,
   "id": "9a3e0834-0b4d-4708-8c81-76223cc67fb0",
   "metadata": {},
   "outputs": [],
   "source": [
    "avg_atk_by_country=df.groupby(\"Country\")[\"Attack\"].mean()"
   ]
  },
  {
   "cell_type": "code",
   "execution_count": 41,
   "id": "50b50222-bfee-4526-a057-aa6fa13cd9c5",
   "metadata": {},
   "outputs": [
    {
     "data": {
      "text/plain": [
       "<Axes: title={'center': 'AVG ATTACK BY COUNTRY'}, xlabel='Country', ylabel='AVERAGE ATTACK'>"
      ]
     },
     "execution_count": 41,
     "metadata": {},
     "output_type": "execute_result"
    },
    {
     "data": {
      "image/png": "[encoded data removed]",
      "text/plain": [
       "<Figure size 640x480 with 1 Axes>"
      ]
     },
     "metadata": {},
     "output_type": "display_data"
    }
   ],
   "source": [
    "avg_atk_by_country.sort_values(ascending=False).head(5).plot(kind=\"bar\",title=\"AVG ATTACK BY COUNTRY\",ylabel=\"AVERAGE ATTACK\",color=\"lightgreen\")"
   ]
  },
  {
   "cell_type": "code",
   "execution_count": 44,
   "id": "c9af9509-0210-40d4-a4b6-da810d88ef34",
   "metadata": {},
   "outputs": [],
   "source": [
    "avg_serve_age=df.groupby(\"Age\")[\"Serve\"].mean()"
   ]
  },
  {
   "cell_type": "code",
   "execution_count": 45,
   "id": "9cd13aa0-414d-44a1-a6f9-6048561fc1f9",
   "metadata": {},
   "outputs": [
    {
     "data": {
      "text/plain": [
       "Age\n",
       "31    0.910000\n",
       "20    0.880000\n",
       "21    0.770000\n",
       "26    0.681053\n",
       "28    0.667273\n",
       "35    0.666667\n",
       "27    0.662500\n",
       "36    0.660000\n",
       "24    0.640667\n",
       "22    0.534286\n",
       "23    0.526667\n",
       "29    0.477500\n",
       "30    0.429231\n",
       "38    0.400000\n",
       "33    0.321429\n",
       "32    0.290000\n",
       "37    0.270000\n",
       "19    0.200000\n",
       "25    0.165714\n",
       "34    0.026667\n",
       "41    0.000000\n",
       "Name: Serve, dtype: float64"
      ]
     },
     "execution_count": 45,
     "metadata": {},
     "output_type": "execute_result"
    }
   ],
   "source": [
    "avg_serve_age.sort_values(ascending=False)\n"
   ]
  },
  {
   "cell_type": "code",
   "execution_count": 47,
   "id": "fa1b77ac-214f-4f2f-9e74-4eeec2a7e860",
   "metadata": {},
   "outputs": [
    {
     "data": {
      "text/html": [
       "<div>\n",
       "<style scoped>\n",
       "    .dataframe tbody tr th:only-of-type {\n",
       "        vertical-align: middle;\n",
       "    }\n",
       "\n",
       "    .dataframe tbody tr th {\n",
       "        vertical-align: top;\n",
       "    }\n",
       "\n",
       "    .dataframe thead th {\n",
       "        text-align: right;\n",
       "    }\n",
       "</style>\n",
       "<table border=\"1\" class=\"dataframe\">\n",
       "  <thead>\n",
       "    <tr style=\"text-align: right;\">\n",
       "      <th></th>\n",
       "      <th>Country</th>\n",
       "      <th>Position</th>\n",
       "      <th>Attack</th>\n",
       "    </tr>\n",
       "  </thead>\n",
       "  <tbody>\n",
       "    <tr>\n",
       "      <th>52</th>\n",
       "      <td>Japan</td>\n",
       "      <td>OH</td>\n",
       "      <td>15.80</td>\n",
       "    </tr>\n",
       "    <tr>\n",
       "      <th>58</th>\n",
       "      <td>Nederland</td>\n",
       "      <td>OP</td>\n",
       "      <td>15.33</td>\n",
       "    </tr>\n",
       "    <tr>\n",
       "      <th>33</th>\n",
       "      <td>France</td>\n",
       "      <td>OP</td>\n",
       "      <td>15.25</td>\n",
       "    </tr>\n",
       "    <tr>\n",
       "      <th>28</th>\n",
       "      <td>Cuba</td>\n",
       "      <td>OP</td>\n",
       "      <td>15.00</td>\n",
       "    </tr>\n",
       "    <tr>\n",
       "      <th>68</th>\n",
       "      <td>Serbia</td>\n",
       "      <td>OP</td>\n",
       "      <td>14.33</td>\n",
       "    </tr>\n",
       "    <tr>\n",
       "      <th>12</th>\n",
       "      <td>Bulgaria</td>\n",
       "      <td>OH</td>\n",
       "      <td>14.25</td>\n",
       "    </tr>\n",
       "    <tr>\n",
       "      <th>22</th>\n",
       "      <td>China</td>\n",
       "      <td>OH</td>\n",
       "      <td>13.50</td>\n",
       "    </tr>\n",
       "    <tr>\n",
       "      <th>72</th>\n",
       "      <td>Slovenia</td>\n",
       "      <td>OH</td>\n",
       "      <td>12.62</td>\n",
       "    </tr>\n",
       "    <tr>\n",
       "      <th>8</th>\n",
       "      <td>Brazil</td>\n",
       "      <td>OP</td>\n",
       "      <td>12.46</td>\n",
       "    </tr>\n",
       "    <tr>\n",
       "      <th>48</th>\n",
       "      <td>Italy</td>\n",
       "      <td>OP</td>\n",
       "      <td>12.33</td>\n",
       "    </tr>\n",
       "    <tr>\n",
       "      <th>27</th>\n",
       "      <td>Cuba</td>\n",
       "      <td>OH</td>\n",
       "      <td>12.33</td>\n",
       "    </tr>\n",
       "    <tr>\n",
       "      <th>43</th>\n",
       "      <td>Iran</td>\n",
       "      <td>OP</td>\n",
       "      <td>12.00</td>\n",
       "    </tr>\n",
       "    <tr>\n",
       "      <th>7</th>\n",
       "      <td>Brazil</td>\n",
       "      <td>OH</td>\n",
       "      <td>11.85</td>\n",
       "    </tr>\n",
       "    <tr>\n",
       "      <th>2</th>\n",
       "      <td>Argentina</td>\n",
       "      <td>OH</td>\n",
       "      <td>11.62</td>\n",
       "    </tr>\n",
       "    <tr>\n",
       "      <th>62</th>\n",
       "      <td>Poland</td>\n",
       "      <td>OH</td>\n",
       "      <td>10.57</td>\n",
       "    </tr>\n",
       "    <tr>\n",
       "      <th>63</th>\n",
       "      <td>Poland</td>\n",
       "      <td>OP</td>\n",
       "      <td>10.57</td>\n",
       "    </tr>\n",
       "    <tr>\n",
       "      <th>47</th>\n",
       "      <td>Italy</td>\n",
       "      <td>OH</td>\n",
       "      <td>10.45</td>\n",
       "    </tr>\n",
       "    <tr>\n",
       "      <th>38</th>\n",
       "      <td>Germany</td>\n",
       "      <td>OP</td>\n",
       "      <td>10.42</td>\n",
       "    </tr>\n",
       "    <tr>\n",
       "      <th>17</th>\n",
       "      <td>Canada</td>\n",
       "      <td>OH</td>\n",
       "      <td>9.75</td>\n",
       "    </tr>\n",
       "    <tr>\n",
       "      <th>32</th>\n",
       "      <td>France</td>\n",
       "      <td>OH</td>\n",
       "      <td>9.56</td>\n",
       "    </tr>\n",
       "  </tbody>\n",
       "</table>\n",
       "</div>"
      ],
      "text/plain": [
       "      Country Position  Attack\n",
       "52      Japan       OH   15.80\n",
       "58  Nederland       OP   15.33\n",
       "33     France       OP   15.25\n",
       "28       Cuba       OP   15.00\n",
       "68     Serbia       OP   14.33\n",
       "12   Bulgaria       OH   14.25\n",
       "22      China       OH   13.50\n",
       "72   Slovenia       OH   12.62\n",
       "8      Brazil       OP   12.46\n",
       "48      Italy       OP   12.33\n",
       "27       Cuba       OH   12.33\n",
       "43       Iran       OP   12.00\n",
       "7      Brazil       OH   11.85\n",
       "2   Argentina       OH   11.62\n",
       "62     Poland       OH   10.57\n",
       "63     Poland       OP   10.57\n",
       "47      Italy       OH   10.45\n",
       "38    Germany       OP   10.42\n",
       "17     Canada       OH    9.75\n",
       "32     France       OH    9.56"
      ]
     },
     "execution_count": 47,
     "metadata": {},
     "output_type": "execute_result"
    }
   ],
   "source": [
    "df.groupby([\"Country\",\"Position\"])[\"Attack\"].max().reset_index().sort_values(ascending=False,by=\"Attack\").head(20)"
   ]
  },
  {
   "cell_type": "code",
   "execution_count": 50,
   "id": "047d54ec-3657-4abe-99dd-abc262cdaaac",
   "metadata": {},
   "outputs": [
    {
     "data": {
      "text/plain": [
       "Country\n",
       "Argentina    33.88\n",
       "Brazil       24.61\n",
       "Bulgaria     22.45\n",
       "Canada       26.50\n",
       "China        22.08\n",
       "Cuba         20.26\n",
       "France       38.59\n",
       "Germany      20.92\n",
       "Iran         24.25\n",
       "Italy        35.89\n",
       "Japan        32.38\n",
       "Nederland    21.84\n",
       "Poland       32.56\n",
       "Serbia       30.64\n",
       "Slovenia     33.85\n",
       "USA          28.42\n",
       "Name: Dig, dtype: float64"
      ]
     },
     "execution_count": 50,
     "metadata": {},
     "output_type": "execute_result"
    }
   ],
   "source": [
    "df.groupby(\"Country\")[\"Dig\"].sum()"
   ]
  },
  {
   "cell_type": "code",
   "execution_count": 69,
   "id": "e0c4c127-f2c9-40a4-a555-305f66edafde",
   "metadata": {},
   "outputs": [
    {
     "data": {
      "image/png": "[encoded data removed]",
      "text/plain": [
       "<Figure size 640x480 with 1 Axes>"
      ]
     },
     "metadata": {},
     "output_type": "display_data"
    }
   ],
   "source": [
    "df.plot(kind=\"scatter\",x=\"Block\",y=\"Receive\",title=\"Scatter Plot:Block Vs Receive\",xlabel=\"Block\",ylabel=\"Receive\",color=\"green\",grid=True);"
   ]
  },
  {
   "cell_type": "code",
   "execution_count": 71,
   "id": "13491e3b-1711-4793-9e12-c83bebf640fd",
   "metadata": {},
   "outputs": [],
   "source": [
    "df.rename(columns={\"Receive \":\"Receive\"},inplace=True)"
   ]
  },
  {
   "cell_type": "code",
   "execution_count": 79,
   "id": "113345a2-11ba-4f8b-be16-8396aa51ab70",
   "metadata": {},
   "outputs": [
    {
     "data": {
      "image/png": "[encoded data removed]",
      "text/plain": [
       "<Figure size 640x480 with 1 Axes>"
      ]
     },
     "metadata": {},
     "output_type": "display_data"
    }
   ],
   "source": [
    "sns.boxplot(x=df[\"Serve\"],color=\"green\")\n",
    "plt.title(\"Box PLot : DIstribution of  Serve Values\")\n",
    "plt.xlabel(\"Serve\")\n",
    "plt.show()"
   ]
  },
  {
   "cell_type": "code",
   "execution_count": 87,
   "id": "fc44b761-2ac8-46e5-97ee-51c356ac14c5",
   "metadata": {},
   "outputs": [
    {
     "data": {
      "image/png": "[encoded data removed]",
      "text/plain": [
       "<Figure size 640x480 with 1 Axes>"
      ]
     },
     "metadata": {},
     "output_type": "display_data"
    }
   ],
   "source": [
    "df[\"Age\"].plot(kind=\"hist\",bins=20,color=\"lightgreen\",edgecolor=\"black\");"
   ]
  },
  {
   "cell_type": "code",
   "execution_count": 89,
   "id": "3fdf5962-c0c7-4f87-8dc3-4344fec8128b",
   "metadata": {},
   "outputs": [],
   "source": [
    "avg_attk_by_position=df.groupby(\"Position\")[\"Attack\"].mean()"
   ]
  },
  {
   "cell_type": "code",
   "execution_count": 103,
   "id": "69ac0055-9701-40f0-a094-6bc9f1fbedf2",
   "metadata": {},
   "outputs": [
    {
     "data": {
      "image/png": "[encoded data removed]",
      "text/plain": [
       "<Figure size 640x480 with 1 Axes>"
      ]
     },
     "metadata": {},
     "output_type": "display_data"
    }
   ],
   "source": [
    "avg_attk_by_position.sort_values(ascending=False).plot(kind=\"bar\",color=\"lightgreen\",ylabel=\"AVG ATTACK\",title=\"AVG ATTACK BY POR\");"
   ]
  },
  {
   "cell_type": "code",
   "execution_count": 105,
   "id": "aa13e2c1-7eb3-4380-bcb0-5eedff739f4a",
   "metadata": {},
   "outputs": [],
   "source": [
    "serve_trend_by_age=df.groupby(\"Age\")[\"Serve\"].mean()"
   ]
  },
  {
   "cell_type": "code",
   "execution_count": 137,
   "id": "e1297ae7-1c18-4962-a971-0558d380a9ba",
   "metadata": {},
   "outputs": [
    {
     "data": {
      "image/png": "[encoded data removed]",
      "text/plain": [
       "<Figure size 640x480 with 1 Axes>"
      ]
     },
     "metadata": {},
     "output_type": "display_data"
    }
   ],
   "source": [
    "serve_trend_by_age.plot(kind=\"line\",color=\"green\",marker=\"o\",grid=True,ylabel=\"AVG SERVE\");"
   ]
  },
  {
   "cell_type": "code",
   "execution_count": 143,
   "id": "6ee20ea1-ee5c-4d83-b9c2-af3ce029e591",
   "metadata": {},
   "outputs": [],
   "source": [
    "total_attack_block_by_country=df.groupby(\"Country\")[[\"Attack\",\"Block\"]].sum()"
   ]
  },
  {
   "cell_type": "code",
   "execution_count": 145,
   "id": "32630b1a-aa93-45ad-8c7e-2aa9becc1ad4",
   "metadata": {},
   "outputs": [
    {
     "data": {
      "text/html": [
       "<div>\n",
       "<style scoped>\n",
       "    .dataframe tbody tr th:only-of-type {\n",
       "        vertical-align: middle;\n",
       "    }\n",
       "\n",
       "    .dataframe tbody tr th {\n",
       "        vertical-align: top;\n",
       "    }\n",
       "\n",
       "    .dataframe thead th {\n",
       "        text-align: right;\n",
       "    }\n",
       "</style>\n",
       "<table border=\"1\" class=\"dataframe\">\n",
       "  <thead>\n",
       "    <tr style=\"text-align: right;\">\n",
       "      <th></th>\n",
       "      <th>Attack</th>\n",
       "      <th>Block</th>\n",
       "    </tr>\n",
       "    <tr>\n",
       "      <th>Country</th>\n",
       "      <th></th>\n",
       "      <th></th>\n",
       "    </tr>\n",
       "  </thead>\n",
       "  <tbody>\n",
       "    <tr>\n",
       "      <th>Argentina</th>\n",
       "      <td>47.40</td>\n",
       "      <td>8.48</td>\n",
       "    </tr>\n",
       "    <tr>\n",
       "      <th>Brazil</th>\n",
       "      <td>42.00</td>\n",
       "      <td>6.30</td>\n",
       "    </tr>\n",
       "    <tr>\n",
       "      <th>Bulgaria</th>\n",
       "      <td>42.26</td>\n",
       "      <td>5.96</td>\n",
       "    </tr>\n",
       "    <tr>\n",
       "      <th>Canada</th>\n",
       "      <td>37.84</td>\n",
       "      <td>5.08</td>\n",
       "    </tr>\n",
       "    <tr>\n",
       "      <th>China</th>\n",
       "      <td>40.75</td>\n",
       "      <td>5.66</td>\n",
       "    </tr>\n",
       "    <tr>\n",
       "      <th>Cuba</th>\n",
       "      <td>44.41</td>\n",
       "      <td>6.76</td>\n",
       "    </tr>\n",
       "    <tr>\n",
       "      <th>France</th>\n",
       "      <td>66.70</td>\n",
       "      <td>9.08</td>\n",
       "    </tr>\n",
       "    <tr>\n",
       "      <th>Germany</th>\n",
       "      <td>38.67</td>\n",
       "      <td>5.04</td>\n",
       "    </tr>\n",
       "    <tr>\n",
       "      <th>Iran</th>\n",
       "      <td>42.37</td>\n",
       "      <td>8.39</td>\n",
       "    </tr>\n",
       "    <tr>\n",
       "      <th>Italy</th>\n",
       "      <td>47.72</td>\n",
       "      <td>10.09</td>\n",
       "    </tr>\n",
       "    <tr>\n",
       "      <th>Japan</th>\n",
       "      <td>52.76</td>\n",
       "      <td>4.41</td>\n",
       "    </tr>\n",
       "    <tr>\n",
       "      <th>Nederland</th>\n",
       "      <td>41.16</td>\n",
       "      <td>5.42</td>\n",
       "    </tr>\n",
       "    <tr>\n",
       "      <th>Poland</th>\n",
       "      <td>58.07</td>\n",
       "      <td>8.18</td>\n",
       "    </tr>\n",
       "    <tr>\n",
       "      <th>Serbia</th>\n",
       "      <td>47.99</td>\n",
       "      <td>8.30</td>\n",
       "    </tr>\n",
       "    <tr>\n",
       "      <th>Slovenia</th>\n",
       "      <td>47.69</td>\n",
       "      <td>6.77</td>\n",
       "    </tr>\n",
       "    <tr>\n",
       "      <th>USA</th>\n",
       "      <td>41.40</td>\n",
       "      <td>6.85</td>\n",
       "    </tr>\n",
       "  </tbody>\n",
       "</table>\n",
       "</div>"
      ],
      "text/plain": [
       "           Attack  Block\n",
       "Country                 \n",
       "Argentina   47.40   8.48\n",
       "Brazil      42.00   6.30\n",
       "Bulgaria    42.26   5.96\n",
       "Canada      37.84   5.08\n",
       "China       40.75   5.66\n",
       "Cuba        44.41   6.76\n",
       "France      66.70   9.08\n",
       "Germany     38.67   5.04\n",
       "Iran        42.37   8.39\n",
       "Italy       47.72  10.09\n",
       "Japan       52.76   4.41\n",
       "Nederland   41.16   5.42\n",
       "Poland      58.07   8.18\n",
       "Serbia      47.99   8.30\n",
       "Slovenia    47.69   6.77\n",
       "USA         41.40   6.85"
      ]
     },
     "execution_count": 145,
     "metadata": {},
     "output_type": "execute_result"
    }
   ],
   "source": [
    "total_attack_block_by_country"
   ]
  },
  {
   "cell_type": "code",
   "execution_count": 165,
   "id": "edf9f781-c4ae-4189-889f-5c18b60d0952",
   "metadata": {},
   "outputs": [
    {
     "data": {
      "image/png": "[encoded data removed]",
      "text/plain": [
       "<Figure size 640x480 with 1 Axes>"
      ]
     },
     "metadata": {},
     "output_type": "display_data"
    }
   ],
   "source": [
    "total_attack_block_by_country.sort_values(ascending=False,by=\"Attack\").plot(kind=\"bar\",stacked=True,colormap=\"summer\",title=\"TOTAL ATTACK AND BLOCK BY COUNTRY\");"
   ]
  },
  {
   "cell_type": "code",
   "execution_count": null,
   "id": "e60e2f93-72c9-4e44-923a-7a20b179df4a",
   "metadata": {},
   "outputs": [],
   "source": []
  }
 ],
 "metadata": {
  "kernelspec": {
   "display_name": "Python [conda env:base] *",
   "language": "python",
   "name": "conda-base-py"
  },
  "language_info": {
   "codemirror_mode": {
    "name": "ipython",
    "version": 3
   },
   "file_extension": ".py",
   "mimetype": "text/x-python",
   "name": "python",
   "nbconvert_exporter": "python",
   "pygments_lexer": "ipython3",
   "version": "3.12.7"
  }
 },
 "nbformat": 4,
 "nbformat_minor": 5
}
